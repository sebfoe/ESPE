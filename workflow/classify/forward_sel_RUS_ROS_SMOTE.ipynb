{
 "cells": [
  {
   "cell_type": "markdown",
   "id": "68764607-123b-4621-98fb-057aab727e42",
   "metadata": {},
   "source": [
    "## Feature Selection\n",
    "Sequentiel selection of data using ground truth information"
   ]
  },
  {
   "cell_type": "code",
   "execution_count": null,
   "id": "497b6852-a24d-49f0-a6d3-05338450c949",
   "metadata": {},
   "outputs": [],
   "source": [
    "import numpy as np\n",
    "import pandas as pd\n",
    "from time import time\n",
    "from sklearn.feature_selection import SequentialFeatureSelector\n",
    "from imblearn.over_sampling import RandomOverSampler\n",
    "from imblearn.under_sampling import CondensedNearestNeighbour\n",
    "\n",
    "from imblearn.under_sampling import RandomUnderSampler\n",
    "from imblearn.over_sampling import SVMSMOTE\n",
    "from sklearn.model_selection import train_test_split\n",
    "from sklearn.ensemble import RandomForestClassifier\n",
    "from sklearn.linear_model import LinearRegression"
   ]
  },
  {
   "cell_type": "code",
   "execution_count": null,
   "id": "9df58ad6",
   "metadata": {
    "tags": []
   },
   "outputs": [],
   "source": [
    "!pip install scikit-learn imblearn"
   ]
  },
  {
   "cell_type": "code",
   "execution_count": null,
   "id": "41c4124c-043a-4abd-8b00-06db5acbe872",
   "metadata": {
    "tags": []
   },
   "outputs": [],
   "source": [
    "# define a model\n",
    "# random forest\n",
    "model_rf = RandomForestClassifier(n_estimators=1000,n_jobs=5, random_state=42)\n",
    "# lr\n",
    "#model_lr = LinearRegression()"
   ]
  },
  {
   "cell_type": "code",
   "execution_count": null,
   "id": "1ef5f4b9-c6f2-4022-8ca5-e316f84804cf",
   "metadata": {
    "tags": []
   },
   "outputs": [],
   "source": [
    "# Load data from\n",
    "training_data ='rhoen_pure_median_2019-01.txt'\n",
    "# class contains tree typ\n",
    "#field = 'class'\n",
    "\n",
    "# write column names\n",
    "model_input = np.loadtxt(training_data)\n",
    "with open(training_data, 'r') as file:\n",
    "    header = file.readline()\n",
    "column_names = header.split()[1:]\n",
    "model_col_indices = [\n",
    "    column_names.index(var_name) for var_name in column_names[1:]]\n",
    "#\n",
    "#\n",
    "column_names = header.split()[1:]\n",
    "model_col_indices = [column_names.index(var_name) for var_name in column_names[1:]]\n",
    "#\n",
    "df_mit = pd.read_table( training_data, sep=' ')\n",
    "#\n",
    "df_mit = df_mit.rename(columns={\"#\": column_names[0],column_names[0]: column_names[1],column_names[1]: column_names[2],column_names[2]: column_names[3],column_names[3]: column_names[4],column_names[4]: column_names[5],column_names[5]: column_names[6],column_names[6]: column_names[7],column_names[7]: column_names[8],column_names[8]: column_names[9],column_names[9]: column_names[10],column_names[10]: column_names[11],column_names[11]: column_names[12],column_names[12]: column_names[13], \n",
    "                   column_names[13]: column_names[14],column_names[14]: column_names[15],column_names[15]: column_names[16],column_names[16]: column_names[17],column_names[17]: column_names[18], column_names[18]: column_names[19], column_names[19]: column_names[20], column_names[20]: column_names[21], column_names[21]: column_names[22], column_names[22]: column_names[23], column_names[23]: column_names[24], column_names[24]: column_names[25], column_names[25]: column_names[26],\n",
    "                        column_names[26]: column_names[27],column_names[27]: column_names[28],column_names[28]: column_names[29]})\n",
    "# sort df\n",
    "df_mit = df_mit.iloc[: , :-1]\n",
    "df_mit = df_mit.astype(dtype='float32', copy=True, errors='raise')\n",
    "df_mit = df_mit.astype({\"class\": int})\n",
    "#\n",
    "y = df_mit['class']\n",
    "X = df_mit.drop('class', axis=1)\n",
    "\n",
    "# under, over, svm-smote sampling\n",
    "cnn = CondensedNearestNeighbour(random_state=42)\n",
    "\n",
    "#sm = SVMSMOTE(random_state=42)\n",
    "ros = RandomUnderSampler(random_state=42)\n",
    "\n",
    "# apply techniques\n",
    "X_sm, y_sm = ros.fit_resample(X, y)\n",
    "\n",
    "\n",
    "# write train/tets data\n",
    "\n",
    "bfs_forward_15jan = SequentialFeatureSelector(model_rf, n_features_to_select=15, direction=\"backward\", n_jobs=5).fit(X_sm, y_sm)\n",
    "bfs_forward_5jan = SequentialFeatureSelector(model_rf, n_features_to_select=5, direction=\"backward\", n_jobs=5).fit(X_sm, y_sm)\n",
    "ffs_forward_15jan = SequentialFeatureSelector(model_rf, n_features_to_select=15, direction=\"forward\", n_jobs=5).fit(X_sm, y_sm)\n",
    "ffs_forward_5jan = SequentialFeatureSelector(model_rf, n_features_to_select=5, direction=\"forward\", n_jobs=5).fit(X_sm, y_sm)"
   ]
  },
  {
   "cell_type": "code",
   "execution_count": null,
   "id": "c3a96508-c799-46d4-81d6-f96606d69be9",
   "metadata": {},
   "outputs": [],
   "source": [
    "bfs_forward_15jan.get_support()"
   ]
  },
  {
   "cell_type": "code",
   "execution_count": null,
   "id": "8828e73d-58e7-4229-8caf-6135e99daefe",
   "metadata": {},
   "outputs": [],
   "source": [
    "bfs_forward_5jan.get_support()"
   ]
  },
  {
   "cell_type": "code",
   "execution_count": null,
   "id": "282f3085-37b4-4417-b141-f78a70939b5b",
   "metadata": {},
   "outputs": [],
   "source": [
    "ffs_forward_15jan.get_support()"
   ]
  },
  {
   "cell_type": "code",
   "execution_count": null,
   "id": "341e6a17-9b30-4bc4-b2bd-b1568985a975",
   "metadata": {},
   "outputs": [],
   "source": [
    "ffs_forward_5jan.get_support()"
   ]
  },
  {
   "cell_type": "code",
   "execution_count": null,
   "id": "54c6d9dd-6f09-4a96-ae6f-0dd71ba3da34",
   "metadata": {},
   "outputs": [],
   "source": []
  },
  {
   "cell_type": "code",
   "execution_count": null,
   "id": "a01bc83a-d388-487d-b263-0655841dee00",
   "metadata": {},
   "outputs": [],
   "source": [
    "bfs_forward_15jan.get_support()"
   ]
  },
  {
   "cell_type": "code",
   "execution_count": null,
   "id": "59aef143-9843-449f-92ab-cf07d79209b3",
   "metadata": {},
   "outputs": [],
   "source": [
    "bfs_forward_5jan.get_support()"
   ]
  },
  {
   "cell_type": "code",
   "execution_count": null,
   "id": "bca75a76-5b48-4083-ad43-28737191cbe7",
   "metadata": {},
   "outputs": [],
   "source": [
    "ffs_forward_15jan.get_support()"
   ]
  },
  {
   "cell_type": "code",
   "execution_count": null,
   "id": "482770cd",
   "metadata": {
    "tags": []
   },
   "outputs": [],
   "source": [
    "ffs_forward_5jan.get_support()"
   ]
  },
  {
   "cell_type": "code",
   "execution_count": null,
   "id": "6d38d289-7577-4227-8562-02b555317251",
   "metadata": {
    "tags": []
   },
   "outputs": [],
   "source": [
    "# Load data from\n",
    "training_data ='rhoen_pure_median_2019-02.txt'\n",
    "# class contains tree typ\n",
    "#field = 'class'\n",
    "\n",
    "# write column names\n",
    "model_input = np.loadtxt(training_data)\n",
    "with open(training_data, 'r') as file:\n",
    "    header = file.readline()\n",
    "column_names = header.split()[1:]\n",
    "model_col_indices = [\n",
    "    column_names.index(var_name) for var_name in column_names[1:]]\n",
    "#\n",
    "#\n",
    "column_names = header.split()[1:]\n",
    "model_col_indices = [column_names.index(var_name) for var_name in column_names[1:]]\n",
    "#\n",
    "df_mit = pd.read_table( training_data, sep=' ')\n",
    "#\n",
    "df_mit = df_mit.rename(columns={\"#\": column_names[0],column_names[0]: column_names[1],column_names[1]: column_names[2],column_names[2]: column_names[3],column_names[3]: column_names[4],column_names[4]: column_names[5],column_names[5]: column_names[6],column_names[6]: column_names[7],column_names[7]: column_names[8],column_names[8]: column_names[9],column_names[9]: column_names[10],column_names[10]: column_names[11],column_names[11]: column_names[12],column_names[12]: column_names[13], \n",
    "                   column_names[13]: column_names[14],column_names[14]: column_names[15],column_names[15]: column_names[16],column_names[16]: column_names[17],column_names[17]: column_names[18], column_names[18]: column_names[19], column_names[19]: column_names[20], column_names[20]: column_names[21], column_names[21]: column_names[22], column_names[22]: column_names[23], column_names[23]: column_names[24], column_names[24]: column_names[25], column_names[25]: column_names[26],\n",
    "                        column_names[26]: column_names[27],column_names[27]: column_names[28],column_names[28]: column_names[29]})\n",
    "# sort df\n",
    "df_mit = df_mit.iloc[: , :-1]\n",
    "df_mit = df_mit.astype(dtype='float32', copy=True, errors='raise')\n",
    "df_mit = df_mit.astype({\"class\": int})\n",
    "#\n",
    "y = df_mit['class']\n",
    "X = df_mit.drop('class', axis=1)\n",
    "\n",
    "# under, over, svm-smote sampling\n",
    "#sm = SVMSMOTE(random_state=42)\n",
    "cnn = CondensedNearestNeighbour(random_state=42)\n",
    "\n",
    "#ros = RandomUnderSampler(random_state=42)\n",
    "# apply techniques\n",
    "X_sm, y_sm = cnn.fit_resample(X, y)\n",
    "\n",
    "\n",
    "bfs_forward_15feb = SequentialFeatureSelector(model_rf, n_features_to_select=15, direction=\"backward\", n_jobs=2).fit(X_sm, y_sm)\n",
    "bfs_forward_5feb = SequentialFeatureSelector(model_rf, n_features_to_select=5, direction=\"backward\", n_jobs=2).fit(X_sm, y_sm)\n",
    "ffs_forward_15feb = SequentialFeatureSelector(model_rf, n_features_to_select=15, direction=\"forward\", n_jobs=2).fit(X_sm, y_sm)\n",
    "ffs_forward_5feb = SequentialFeatureSelector(model_rf, n_features_to_select=5, direction=\"forward\", n_jobs=2).fit(X_sm, y_sm)"
   ]
  },
  {
   "cell_type": "code",
   "execution_count": null,
   "id": "93c74923-ff7c-4ca4-b892-ef814738babe",
   "metadata": {},
   "outputs": [],
   "source": [
    "bfs_forward_15feb.get_support()"
   ]
  },
  {
   "cell_type": "code",
   "execution_count": null,
   "id": "dd9eb878-7383-48ba-9407-77b50ccf7fb7",
   "metadata": {},
   "outputs": [],
   "source": [
    "bfs_forward_15feb.get_support()"
   ]
  },
  {
   "cell_type": "code",
   "execution_count": null,
   "id": "3a9fa1f1-afae-4d2f-b871-6d680a37cb2b",
   "metadata": {},
   "outputs": [],
   "source": [
    "bfs_forward_5feb.get_support()"
   ]
  },
  {
   "cell_type": "code",
   "execution_count": null,
   "id": "cbde8107-2e31-47b3-a239-37c70f30cde4",
   "metadata": {},
   "outputs": [],
   "source": [
    "ffs_forward_15feb.get_support()"
   ]
  },
  {
   "cell_type": "code",
   "execution_count": null,
   "id": "63b7a659-9565-4bfe-b9d7-9bd34c110bc3",
   "metadata": {},
   "outputs": [],
   "source": [
    "ffs_forward_5feb.get_support()"
   ]
  },
  {
   "cell_type": "code",
   "execution_count": null,
   "id": "58bd2c72-81f9-4b73-a375-95ef5c7e0c57",
   "metadata": {},
   "outputs": [],
   "source": [
    "# Load data from\n",
    "training_data ='rhoen_pure_median_2019-03.txt'\n",
    "# class contains tree typ\n",
    "#field = 'class'\n",
    "\n",
    "# write column names\n",
    "model_input = np.loadtxt(training_data)\n",
    "with open(training_data, 'r') as file:\n",
    "    header = file.readline()\n",
    "column_names = header.split()[1:]\n",
    "model_col_indices = [\n",
    "    column_names.index(var_name) for var_name in column_names[1:]]\n",
    "#\n",
    "#\n",
    "column_names = header.split()[1:]\n",
    "model_col_indices = [column_names.index(var_name) for var_name in column_names[1:]]\n",
    "#\n",
    "df_mit = pd.read_table( training_data, sep=' ')\n",
    "#\n",
    "df_mit = df_mit.rename(columns={\"#\": column_names[0],column_names[0]: column_names[1],column_names[1]: column_names[2],column_names[2]: column_names[3],column_names[3]: column_names[4],column_names[4]: column_names[5],column_names[5]: column_names[6],column_names[6]: column_names[7],column_names[7]: column_names[8],column_names[8]: column_names[9],column_names[9]: column_names[10],column_names[10]: column_names[11],column_names[11]: column_names[12],column_names[12]: column_names[13], \n",
    "                   column_names[13]: column_names[14],column_names[14]: column_names[15],column_names[15]: column_names[16],column_names[16]: column_names[17],column_names[17]: column_names[18], column_names[18]: column_names[19], column_names[19]: column_names[20], column_names[20]: column_names[21], column_names[21]: column_names[22], column_names[22]: column_names[23], column_names[23]: column_names[24], column_names[24]: column_names[25], column_names[25]: column_names[26],\n",
    "                        column_names[26]: column_names[27],column_names[27]: column_names[28],column_names[28]: column_names[29]})\n",
    "# sort df\n",
    "df_mit = df_mit.iloc[: , :-1]\n",
    "df_mit = df_mit.astype(dtype='float32', copy=True, errors='raise')\n",
    "df_mit = df_mit.astype({\"class\": int})\n",
    "#\n",
    "y = df_mit['class']\n",
    "X = df_mit.drop('class', axis=1)\n",
    "\n",
    "# under, over, svm-smote sampling\n",
    "#sm = SVMSMOTE(random_state=42)\n",
    "ros = RandomUnderSampler(random_state=42)\n",
    "cnn = CondensedNearestNeighbour(random_state=42)\n",
    "\n",
    "# apply techniques\n",
    "X_sm, y_sm = ros.fit_resample(X, y)\n",
    "\n",
    "bfs_forward_15mar = SequentialFeatureSelector(model_rf, n_features_to_select=15, direction=\"backward\", n_jobs=5).fit(X_sm, y_sm)\n",
    "bfs_forward_5mar = SequentialFeatureSelector(model_rf, n_features_to_select=5, direction=\"backward\", n_jobs=5).fit(X_sm, y_sm)\n",
    "ffs_forward_15mar = SequentialFeatureSelector(model_rf, n_features_to_select=15, direction=\"forward\", n_jobs=5).fit(X_sm, y_sm)\n",
    "ffs_forward_5mar = SequentialFeatureSelector(model_rf, n_features_to_select=5, direction=\"forward\", n_jobs=5).fit(X_sm, y_sm)"
   ]
  },
  {
   "cell_type": "code",
   "execution_count": null,
   "id": "b5e96d82-299c-44c0-941e-3f8b09344bc6",
   "metadata": {},
   "outputs": [],
   "source": [
    "bfs_forward_15mar.get_support()"
   ]
  },
  {
   "cell_type": "code",
   "execution_count": null,
   "id": "d2f87c6c-9413-4d50-84a2-6d976c767c5b",
   "metadata": {},
   "outputs": [],
   "source": [
    "bfs_forward_5mar.get_support()"
   ]
  },
  {
   "cell_type": "code",
   "execution_count": null,
   "id": "3f373193-6afc-4a61-ac01-9f02529e2cd3",
   "metadata": {},
   "outputs": [],
   "source": [
    "ffs_forward_15mar.get_support()"
   ]
  },
  {
   "cell_type": "code",
   "execution_count": null,
   "id": "02a52f6f-3bcd-4950-8b5f-7c7459026331",
   "metadata": {},
   "outputs": [],
   "source": [
    "ffs_forward_5mar.get_support()"
   ]
  },
  {
   "cell_type": "code",
   "execution_count": null,
   "id": "220a0f5c",
   "metadata": {},
   "outputs": [],
   "source": [
    "# Load data from\n",
    "training_data ='rhoen_pure_median_2019-04.txt'\n",
    "# class contains tree typ\n",
    "#field = 'class'\n",
    "\n",
    "# write column names\n",
    "model_input = np.loadtxt(training_data)\n",
    "with open(training_data, 'r') as file:\n",
    "    header = file.readline()\n",
    "column_names = header.split()[1:]\n",
    "model_col_indices = [\n",
    "    column_names.index(var_name) for var_name in column_names[1:]]\n",
    "#\n",
    "#\n",
    "column_names = header.split()[1:]\n",
    "model_col_indices = [column_names.index(var_name) for var_name in column_names[1:]]\n",
    "#\n",
    "df_mit = pd.read_table( training_data, sep=' ')\n",
    "#\n",
    "df_mit = df_mit.rename(columns={\"#\": column_names[0],column_names[0]: column_names[1],column_names[1]: column_names[2],column_names[2]: column_names[3],column_names[3]: column_names[4],column_names[4]: column_names[5],column_names[5]: column_names[6],column_names[6]: column_names[7],column_names[7]: column_names[8],column_names[8]: column_names[9],column_names[9]: column_names[10],column_names[10]: column_names[11],column_names[11]: column_names[12],column_names[12]: column_names[13], \n",
    "                   column_names[13]: column_names[14],column_names[14]: column_names[15],column_names[15]: column_names[16],column_names[16]: column_names[17],column_names[17]: column_names[18], column_names[18]: column_names[19], column_names[19]: column_names[20], column_names[20]: column_names[21], column_names[21]: column_names[22], column_names[22]: column_names[23], column_names[23]: column_names[24], column_names[24]: column_names[25], column_names[25]: column_names[26],\n",
    "                        column_names[26]: column_names[27],column_names[27]: column_names[28],column_names[28]: column_names[29]})\n",
    "# sort df\n",
    "df_mit = df_mit.iloc[: , :-1]\n",
    "df_mit = df_mit.astype(dtype='float32', copy=True, errors='raise')\n",
    "df_mit = df_mit.astype({\"class\": int})\n",
    "#\n",
    "y = df_mit['class']\n",
    "X = df_mit.drop('class', axis=1)\n",
    "\n",
    "# under, over, svm-smote sampling\n",
    "#sm = SVMSMOTE(random_state=42)\n",
    "cnn = CondensedNearestNeighbour(random_state=42)\n",
    "\n",
    "ros = RandomUnderSampler(random_state=42)\n",
    "# apply techniques\n",
    "X_sm, y_sm = cnn.fit_resample(X, y)\n",
    "\n",
    "bfs_forward_15apr = SequentialFeatureSelector(model_rf, n_features_to_select=15, direction=\"backward\", n_jobs=2).fit(X_sm, y_sm)\n",
    "bfs_forward_5apr = SequentialFeatureSelector(model_rf, n_features_to_select=5, direction=\"backward\", n_jobs=2).fit(X_sm, y_sm)\n",
    "ffs_forward_15apr = SequentialFeatureSelector(model_rf, n_features_to_select=15, direction=\"forward\", n_jobs=2).fit(X_sm, y_sm)\n",
    "ffs_forward_5apr = SequentialFeatureSelector(model_rf, n_features_to_select=5, direction=\"forward\", n_jobs=2).fit(X_sm, y_sm)"
   ]
  },
  {
   "cell_type": "code",
   "execution_count": null,
   "id": "7fe4a63a-eceb-4c9e-a038-42668c687b31",
   "metadata": {},
   "outputs": [],
   "source": [
    "bfs_forward_15apr.get_support()"
   ]
  },
  {
   "cell_type": "code",
   "execution_count": null,
   "id": "97f90cb4-7d57-4c47-8772-4e030aaedc95",
   "metadata": {},
   "outputs": [],
   "source": [
    "bfs_forward_5apr.get_support()"
   ]
  },
  {
   "cell_type": "code",
   "execution_count": null,
   "id": "cf509997-bd80-4f50-86a4-d5a6ac276528",
   "metadata": {},
   "outputs": [],
   "source": [
    "ffs_forward_15apr.get_support()"
   ]
  },
  {
   "cell_type": "code",
   "execution_count": null,
   "id": "a49d79ef-57cf-461a-91f5-b0be84ae6e1f",
   "metadata": {},
   "outputs": [],
   "source": [
    "ffs_forward_5apr.get_support()"
   ]
  },
  {
   "cell_type": "code",
   "execution_count": null,
   "id": "787b5c59",
   "metadata": {},
   "outputs": [],
   "source": [
    "# Load data from\n",
    "training_data ='rhoen_pure_median_2019-05.txt'\n",
    "# class contains tree typ\n",
    "#field = 'class'\n",
    "\n",
    "# write column names\n",
    "model_input = np.loadtxt(training_data)\n",
    "with open(training_data, 'r') as file:\n",
    "    header = file.readline()\n",
    "column_names = header.split()[1:]\n",
    "model_col_indices = [\n",
    "    column_names.index(var_name) for var_name in column_names[1:]]\n",
    "#\n",
    "#\n",
    "column_names = header.split()[1:]\n",
    "model_col_indices = [column_names.index(var_name) for var_name in column_names[1:]]\n",
    "#\n",
    "df_mit = pd.read_table( training_data, sep=' ')\n",
    "#\n",
    "df_mit = df_mit.rename(columns={\"#\": column_names[0],column_names[0]: column_names[1],column_names[1]: column_names[2],column_names[2]: column_names[3],column_names[3]: column_names[4],column_names[4]: column_names[5],column_names[5]: column_names[6],column_names[6]: column_names[7],column_names[7]: column_names[8],column_names[8]: column_names[9],column_names[9]: column_names[10],column_names[10]: column_names[11],column_names[11]: column_names[12],column_names[12]: column_names[13], \n",
    "                   column_names[13]: column_names[14],column_names[14]: column_names[15],column_names[15]: column_names[16],column_names[16]: column_names[17],column_names[17]: column_names[18], column_names[18]: column_names[19], column_names[19]: column_names[20], column_names[20]: column_names[21], column_names[21]: column_names[22], column_names[22]: column_names[23], column_names[23]: column_names[24], column_names[24]: column_names[25], column_names[25]: column_names[26],\n",
    "                        column_names[26]: column_names[27],column_names[27]: column_names[28],column_names[28]: column_names[29]})\n",
    "# sort df\n",
    "df_mit = df_mit.iloc[: , :-1]\n",
    "df_mit = df_mit.astype(dtype='float32', copy=True, errors='raise')\n",
    "df_mit = df_mit.astype({\"class\": int})\n",
    "#\n",
    "y = df_mit['class']\n",
    "X = df_mit.drop('class', axis=1)\n",
    "\n",
    "# under, over, svm-smote sampling\n",
    "#sm = SVMSMOTE(random_state=42)\n",
    "ros = RandomUnderSampler(random_state=42)\n",
    "cnn = CondensedNearestNeighbour(random_state=42)\n",
    "\n",
    "# apply techniques\n",
    "X_sm, y_sm = cnn.fit_resample(X, y)\n",
    "\n",
    "bfs_forward_15may = SequentialFeatureSelector(model_rf, n_features_to_select=15, direction=\"backward\", n_jobs=2).fit(X_sm, y_sm)\n",
    "bfs_forward_5may = SequentialFeatureSelector(model_rf, n_features_to_select=5, direction=\"backward\", n_jobs=2).fit(X_sm, y_sm)\n",
    "ffs_forward_15may = SequentialFeatureSelector(model_rf, n_features_to_select=15, direction=\"forward\", n_jobs=2).fit(X_sm, y_sm)\n",
    "ffs_forward_5may = SequentialFeatureSelector(model_rf, n_features_to_select=5, direction=\"forward\", n_jobs=2).fit(X_sm, y_sm)"
   ]
  },
  {
   "cell_type": "code",
   "execution_count": null,
   "id": "154ef966-723a-4e1e-97d9-dbb7162965d5",
   "metadata": {},
   "outputs": [],
   "source": [
    "bfs_forward_15may.get_support()"
   ]
  },
  {
   "cell_type": "code",
   "execution_count": null,
   "id": "6dc89a84-a013-4696-af9c-fded020582f4",
   "metadata": {},
   "outputs": [],
   "source": [
    "bfs_forward_5may.get_support()"
   ]
  },
  {
   "cell_type": "code",
   "execution_count": null,
   "id": "e8cd5700-abdc-4568-8740-7e7b1c89cc30",
   "metadata": {},
   "outputs": [],
   "source": [
    "ffs_forward_15may.get_support()"
   ]
  },
  {
   "cell_type": "code",
   "execution_count": null,
   "id": "feb0bc9e-3201-4e59-a867-c9b5f9ac0b16",
   "metadata": {},
   "outputs": [],
   "source": [
    "ffs_forward_5may.get_support()"
   ]
  },
  {
   "cell_type": "code",
   "execution_count": null,
   "id": "f8b5b652",
   "metadata": {},
   "outputs": [],
   "source": [
    "# Load data from\n",
    "training_data ='rhoen_pure_median_2019-06.txt'\n",
    "# class contains tree typ\n",
    "#field = 'class'\n",
    "\n",
    "# write column names\n",
    "model_input = np.loadtxt(training_data)\n",
    "with open(training_data, 'r') as file:\n",
    "    header = file.readline()\n",
    "column_names = header.split()[1:]\n",
    "model_col_indices = [\n",
    "    column_names.index(var_name) for var_name in column_names[1:]]\n",
    "#\n",
    "#\n",
    "column_names = header.split()[1:]\n",
    "model_col_indices = [column_names.index(var_name) for var_name in column_names[1:]]\n",
    "#\n",
    "df_mit = pd.read_table( training_data, sep=' ')\n",
    "#\n",
    "df_mit = df_mit.rename(columns={\"#\": column_names[0],column_names[0]: column_names[1],column_names[1]: column_names[2],column_names[2]: column_names[3],column_names[3]: column_names[4],column_names[4]: column_names[5],column_names[5]: column_names[6],column_names[6]: column_names[7],column_names[7]: column_names[8],column_names[8]: column_names[9],column_names[9]: column_names[10],column_names[10]: column_names[11],column_names[11]: column_names[12],column_names[12]: column_names[13], \n",
    "                   column_names[13]: column_names[14],column_names[14]: column_names[15],column_names[15]: column_names[16],column_names[16]: column_names[17],column_names[17]: column_names[18], column_names[18]: column_names[19], column_names[19]: column_names[20], column_names[20]: column_names[21], column_names[21]: column_names[22], column_names[22]: column_names[23], column_names[23]: column_names[24], column_names[24]: column_names[25], column_names[25]: column_names[26],\n",
    "                        column_names[26]: column_names[27],column_names[27]: column_names[28],column_names[28]: column_names[29]})\n",
    "# sort df\n",
    "df_mit = df_mit.iloc[: , :-1]\n",
    "df_mit = df_mit.astype(dtype='float32', copy=True, errors='raise')\n",
    "df_mit = df_mit.astype({\"class\": int})\n",
    "#\n",
    "y = df_mit['class']\n",
    "X = df_mit.drop('class', axis=1)\n",
    "\n",
    "# under, over, svm-smote sampling\n",
    "#sm = SVMSMOTE(random_state=42)\n",
    "ros = RandomUnderSampler(random_state=42)\n",
    "cnn = CondensedNearestNeighbour(random_state=42)\n",
    "\n",
    "# apply techniques\n",
    "X_sm, y_sm = cnn.fit_resample(X, y)\n",
    "\n",
    "bfs_forward_15jun = SequentialFeatureSelector(model_rf, n_features_to_select=15, direction=\"backward\", n_jobs=1).fit(X_sm, y_sm)\n",
    "bfs_forward_5jun = SequentialFeatureSelector(model_rf, n_features_to_select=5, direction=\"backward\", n_jobs=1).fit(X_sm, y_sm)\n",
    "ffs_forward_15jun = SequentialFeatureSelector(model_rf, n_features_to_select=15, direction=\"forward\", n_jobs=1).fit(X_sm, y_sm)\n",
    "ffs_forward_5jun = SequentialFeatureSelector(model_rf, n_features_to_select=5, direction=\"forward\", n_jobs=1).fit(X_sm, y_sm)"
   ]
  },
  {
   "cell_type": "code",
   "execution_count": null,
   "id": "468c6f3b-16b7-4c5d-934f-68171e701ed7",
   "metadata": {},
   "outputs": [],
   "source": [
    "bfs_forward_15jun.get_support()"
   ]
  },
  {
   "cell_type": "code",
   "execution_count": null,
   "id": "fd55e4f6-bc4e-4218-bf8f-5368135a3551",
   "metadata": {},
   "outputs": [],
   "source": [
    "bfs_forward_5jun.get_support()"
   ]
  },
  {
   "cell_type": "code",
   "execution_count": null,
   "id": "19c0768e-fa2e-4581-9f69-bfb7d2dbffbe",
   "metadata": {},
   "outputs": [],
   "source": [
    "ffs_forward_15jun.get_support()"
   ]
  },
  {
   "cell_type": "code",
   "execution_count": null,
   "id": "6594879a-10e9-47f2-a060-ea607d4a22cb",
   "metadata": {},
   "outputs": [],
   "source": [
    "ffs_forward_5jun.get_support()"
   ]
  },
  {
   "cell_type": "code",
   "execution_count": null,
   "id": "590d27f4",
   "metadata": {},
   "outputs": [],
   "source": [
    "# Load data from\n",
    "training_data ='rhoen_pure_median_2019-07.txt'\n",
    "# class contains tree typ\n",
    "#field = 'class'\n",
    "\n",
    "# write column names\n",
    "model_input = np.loadtxt(training_data)\n",
    "with open(training_data, 'r') as file:\n",
    "    header = file.readline()\n",
    "column_names = header.split()[1:]\n",
    "model_col_indices = [\n",
    "    column_names.index(var_name) for var_name in column_names[1:]]\n",
    "#\n",
    "#\n",
    "column_names = header.split()[1:]\n",
    "model_col_indices = [column_names.index(var_name) for var_name in column_names[1:]]\n",
    "#\n",
    "df_mit = pd.read_table( training_data, sep=' ')\n",
    "#\n",
    "df_mit = df_mit.rename(columns={\"#\": column_names[0],column_names[0]: column_names[1],column_names[1]: column_names[2],column_names[2]: column_names[3],column_names[3]: column_names[4],column_names[4]: column_names[5],column_names[5]: column_names[6],column_names[6]: column_names[7],column_names[7]: column_names[8],column_names[8]: column_names[9],column_names[9]: column_names[10],column_names[10]: column_names[11],column_names[11]: column_names[12],column_names[12]: column_names[13], \n",
    "                   column_names[13]: column_names[14],column_names[14]: column_names[15],column_names[15]: column_names[16],column_names[16]: column_names[17],column_names[17]: column_names[18], column_names[18]: column_names[19], column_names[19]: column_names[20], column_names[20]: column_names[21], column_names[21]: column_names[22], column_names[22]: column_names[23], column_names[23]: column_names[24], column_names[24]: column_names[25], column_names[25]: column_names[26],\n",
    "                        column_names[26]: column_names[27],column_names[27]: column_names[28],column_names[28]: column_names[29]})\n",
    "# sort df\n",
    "df_mit = df_mit.iloc[: , :-1]\n",
    "df_mit = df_mit.astype(dtype='float32', copy=True, errors='raise')\n",
    "df_mit = df_mit.astype({\"class\": int})\n",
    "#\n",
    "y = df_mit['class']\n",
    "X = df_mit.drop('class', axis=1)\n",
    "\n",
    "# under, over, svm-smote sampling\n",
    "#sm = SVMSMOTE(random_state=42)\n",
    "ros = RandomUnderSampler(random_state=42)\n",
    "cnn = CondensedNearestNeighbour(random_state=42)\n",
    "\n",
    "# apply techniques\n",
    "X_sm, y_sm = cnn.fit_resample(X, y)\n",
    "\n",
    "bfs_forward_15jul = SequentialFeatureSelector(model_rf, n_features_to_select=15, direction=\"backward\", n_jobs=1).fit(X_sm, y_sm)\n",
    "bfs_forward_5jul = SequentialFeatureSelector(model_rf, n_features_to_select=5, direction=\"backward\", n_jobs=1).fit(X_sm, y_sm)\n",
    "ffs_forward_15jul = SequentialFeatureSelector(model_rf, n_features_to_select=15, direction=\"forward\", n_jobs=1).fit(X_sm, y_sm)\n",
    "ffs_forward_5jul = SequentialFeatureSelector(model_rf, n_features_to_select=5, direction=\"forward\", n_jobs=1).fit(X_sm, y_sm)"
   ]
  },
  {
   "cell_type": "code",
   "execution_count": null,
   "id": "51e59ae3-f4c9-4537-af1b-4e42b4451a7e",
   "metadata": {},
   "outputs": [],
   "source": [
    "bfs_forward_15jul.get_support()"
   ]
  },
  {
   "cell_type": "code",
   "execution_count": null,
   "id": "db926b95-38b1-4a36-a32f-cb6f5dea4fad",
   "metadata": {},
   "outputs": [],
   "source": [
    "bfs_forward_5jul.get_support()"
   ]
  },
  {
   "cell_type": "code",
   "execution_count": null,
   "id": "a67ecb8b-3182-4016-bfbb-d27412683d7c",
   "metadata": {},
   "outputs": [],
   "source": [
    "ffs_forward_15jul.get_support()"
   ]
  },
  {
   "cell_type": "code",
   "execution_count": null,
   "id": "35625d70-5bb9-4c4c-8104-7ba353b360ae",
   "metadata": {},
   "outputs": [],
   "source": [
    "ffs_forward_5jul.get_support()"
   ]
  },
  {
   "cell_type": "code",
   "execution_count": null,
   "id": "206ef58e",
   "metadata": {},
   "outputs": [],
   "source": [
    "# Load data from\n",
    "training_data ='rhoen_pure_median_2019-08.txt'\n",
    "# class contains tree typ\n",
    "#field = 'class'\n",
    "\n",
    "# write column names\n",
    "model_input = np.loadtxt(training_data)\n",
    "with open(training_data, 'r') as file:\n",
    "    header = file.readline()\n",
    "column_names = header.split()[1:]\n",
    "model_col_indices = [\n",
    "    column_names.index(var_name) for var_name in column_names[1:]]\n",
    "#\n",
    "#\n",
    "column_names = header.split()[1:]\n",
    "model_col_indices = [column_names.index(var_name) for var_name in column_names[1:]]\n",
    "#\n",
    "df_mit = pd.read_table( training_data, sep=' ')\n",
    "#\n",
    "df_mit = df_mit.rename(columns={\"#\": column_names[0],column_names[0]: column_names[1],column_names[1]: column_names[2],column_names[2]: column_names[3],column_names[3]: column_names[4],column_names[4]: column_names[5],column_names[5]: column_names[6],column_names[6]: column_names[7],column_names[7]: column_names[8],column_names[8]: column_names[9],column_names[9]: column_names[10],column_names[10]: column_names[11],column_names[11]: column_names[12],column_names[12]: column_names[13], \n",
    "                   column_names[13]: column_names[14],column_names[14]: column_names[15],column_names[15]: column_names[16],column_names[16]: column_names[17],column_names[17]: column_names[18], column_names[18]: column_names[19], column_names[19]: column_names[20], column_names[20]: column_names[21], column_names[21]: column_names[22], column_names[22]: column_names[23], column_names[23]: column_names[24], column_names[24]: column_names[25], column_names[25]: column_names[26],\n",
    "                        column_names[26]: column_names[27],column_names[27]: column_names[28],column_names[28]: column_names[29]})\n",
    "# sort df\n",
    "df_mit = df_mit.iloc[: , :-1]\n",
    "df_mit = df_mit.astype(dtype='float32', copy=True, errors='raise')\n",
    "df_mit = df_mit.astype({\"class\": int})\n",
    "#\n",
    "y = df_mit['class']\n",
    "X = df_mit.drop('class', axis=1)\n",
    "\n",
    "# under, over, svm-smote sampling\n",
    "#sm = SVMSMOTE(random_state=42)\n",
    "ros = RandomUnderSampler(random_state=42)\n",
    "cnn = CondensedNearestNeighbour(random_state=42)\n",
    "\n",
    "# apply techniques\n",
    "X_sm, y_sm = cnn.fit_resample(X, y)\n",
    "\n",
    "bfs_forward_15aug = SequentialFeatureSelector(model_rf, n_features_to_select=15, direction=\"backward\", n_jobs=1).fit(X_sm, y_sm)\n",
    "bfs_forward_5aug = SequentialFeatureSelector(model_rf, n_features_to_select=5, direction=\"backward\", n_jobs=1).fit(X_sm, y_sm)\n",
    "ffs_forward_15aug = SequentialFeatureSelector(model_rf, n_features_to_select=15, direction=\"forward\", n_jobs=1).fit(X_sm, y_sm)\n",
    "ffs_forward_5aug = SequentialFeatureSelector(model_rf, n_features_to_select=5, direction=\"forward\", n_jobs=1).fit(X_sm, y_sm)"
   ]
  },
  {
   "cell_type": "code",
   "execution_count": null,
   "id": "e74ce502-ee6a-4d68-b748-17e3f4444829",
   "metadata": {},
   "outputs": [],
   "source": [
    "bfs_forward_15aug.get_support()"
   ]
  },
  {
   "cell_type": "code",
   "execution_count": null,
   "id": "a1535e5d-0910-4ab0-bfbd-67935688e906",
   "metadata": {},
   "outputs": [],
   "source": [
    "bfs_forward_5aug.get_support()"
   ]
  },
  {
   "cell_type": "code",
   "execution_count": null,
   "id": "92a1e595-3d21-47cd-9bc4-5417dc0b332d",
   "metadata": {},
   "outputs": [],
   "source": [
    "ffs_forward_15aug.get_support()"
   ]
  },
  {
   "cell_type": "code",
   "execution_count": null,
   "id": "07b0c7eb-40e8-45b1-8652-9f1de4bf1bd7",
   "metadata": {},
   "outputs": [],
   "source": [
    "ffs_forward_5aug.get_support()"
   ]
  },
  {
   "cell_type": "code",
   "execution_count": null,
   "id": "55bceac2",
   "metadata": {},
   "outputs": [],
   "source": [
    "# Load data from\n",
    "training_data ='rhoen_pure_median_2019-09.txt'\n",
    "# class contains tree typ\n",
    "#field = 'class'\n",
    "\n",
    "# write column names\n",
    "model_input = np.loadtxt(training_data)\n",
    "with open(training_data, 'r') as file:\n",
    "    header = file.readline()\n",
    "column_names = header.split()[1:]\n",
    "model_col_indices = [\n",
    "    column_names.index(var_name) for var_name in column_names[1:]]\n",
    "#\n",
    "#\n",
    "column_names = header.split()[1:]\n",
    "model_col_indices = [column_names.index(var_name) for var_name in column_names[1:]]\n",
    "#\n",
    "df_mit = pd.read_table( training_data, sep=' ')\n",
    "#\n",
    "df_mit = df_mit.rename(columns={\"#\": column_names[0],column_names[0]: column_names[1],column_names[1]: column_names[2],column_names[2]: column_names[3],column_names[3]: column_names[4],column_names[4]: column_names[5],column_names[5]: column_names[6],column_names[6]: column_names[7],column_names[7]: column_names[8],column_names[8]: column_names[9],column_names[9]: column_names[10],column_names[10]: column_names[11],column_names[11]: column_names[12],column_names[12]: column_names[13], \n",
    "                   column_names[13]: column_names[14],column_names[14]: column_names[15],column_names[15]: column_names[16],column_names[16]: column_names[17],column_names[17]: column_names[18], column_names[18]: column_names[19], column_names[19]: column_names[20], column_names[20]: column_names[21], column_names[21]: column_names[22], column_names[22]: column_names[23], column_names[23]: column_names[24], column_names[24]: column_names[25], column_names[25]: column_names[26],\n",
    "                        column_names[26]: column_names[27],column_names[27]: column_names[28],column_names[28]: column_names[29]})\n",
    "# sort df\n",
    "df_mit = df_mit.iloc[: , :-1]\n",
    "df_mit = df_mit.astype(dtype='float32', copy=True, errors='raise')\n",
    "df_mit = df_mit.astype({\"class\": int})\n",
    "#\n",
    "y = df_mit['class']\n",
    "X = df_mit.drop('class', axis=1)\n",
    "\n",
    "# under, over, svm-smote sampling\n",
    "#sm = SVMSMOTE(random_state=42)\n",
    "ros = RandomUnderSampler(random_state=42)\n",
    "cnn = CondensedNearestNeighbour(random_state=42)\n",
    "\n",
    "# apply techniques\n",
    "X_sm, y_sm = cnn.fit_resample(X, y)\n",
    "\n",
    "bfs_forward_15sep = SequentialFeatureSelector(model_rf, n_features_to_select=15, direction=\"backward\", n_jobs=1).fit(X_sm, y_sm)\n",
    "bfs_forward_5sep = SequentialFeatureSelector(model_rf, n_features_to_select=5, direction=\"backward\", n_jobs=1).fit(X_sm, y_sm)\n",
    "ffs_forward_15sep = SequentialFeatureSelector(model_rf, n_features_to_select=15, direction=\"forward\", n_jobs=1).fit(X_sm, y_sm)\n",
    "ffs_forward_5sep = SequentialFeatureSelector(model_rf, n_features_to_select=5, direction=\"forward\", n_jobs=1).fit(X_sm, y_sm)"
   ]
  },
  {
   "cell_type": "code",
   "execution_count": null,
   "id": "8cddb54f-44ae-4610-a2bc-b071829a0c78",
   "metadata": {},
   "outputs": [],
   "source": [
    "bfs_forward_15sep.get_support()"
   ]
  },
  {
   "cell_type": "code",
   "execution_count": null,
   "id": "77c832c7-d9c8-4a05-8f41-d353b86a1bf5",
   "metadata": {},
   "outputs": [],
   "source": [
    "bfs_forward_5sep.get_support()"
   ]
  },
  {
   "cell_type": "code",
   "execution_count": null,
   "id": "5321ced3-218b-49b1-8720-2a3a54f5de82",
   "metadata": {},
   "outputs": [],
   "source": [
    "ffs_forward_15sep.get_support()"
   ]
  },
  {
   "cell_type": "code",
   "execution_count": null,
   "id": "306f9a25-18c0-406a-ae0e-fba855ef5ca0",
   "metadata": {},
   "outputs": [],
   "source": [
    "ffs_forward_5sep.get_support()"
   ]
  },
  {
   "cell_type": "code",
   "execution_count": null,
   "id": "c8f5cc6a",
   "metadata": {},
   "outputs": [],
   "source": [
    "# Load data from\n",
    "training_data ='rhoen_pure_median_2019-10.txt'\n",
    "# class contains tree typ\n",
    "#field = 'class'\n",
    "\n",
    "# write column names\n",
    "model_input = np.loadtxt(training_data)\n",
    "with open(training_data, 'r') as file:\n",
    "    header = file.readline()\n",
    "column_names = header.split()[1:]\n",
    "model_col_indices = [\n",
    "    column_names.index(var_name) for var_name in column_names[1:]]\n",
    "#\n",
    "#\n",
    "column_names = header.split()[1:]\n",
    "model_col_indices = [column_names.index(var_name) for var_name in column_names[1:]]\n",
    "#\n",
    "df_mit = pd.read_table( training_data, sep=' ')\n",
    "#\n",
    "df_mit = df_mit.rename(columns={\"#\": column_names[0],column_names[0]: column_names[1],column_names[1]: column_names[2],column_names[2]: column_names[3],column_names[3]: column_names[4],column_names[4]: column_names[5],column_names[5]: column_names[6],column_names[6]: column_names[7],column_names[7]: column_names[8],column_names[8]: column_names[9],column_names[9]: column_names[10],column_names[10]: column_names[11],column_names[11]: column_names[12],column_names[12]: column_names[13], \n",
    "                   column_names[13]: column_names[14],column_names[14]: column_names[15],column_names[15]: column_names[16],column_names[16]: column_names[17],column_names[17]: column_names[18], column_names[18]: column_names[19], column_names[19]: column_names[20], column_names[20]: column_names[21], column_names[21]: column_names[22], column_names[22]: column_names[23], column_names[23]: column_names[24], column_names[24]: column_names[25], column_names[25]: column_names[26],\n",
    "                        column_names[26]: column_names[27],column_names[27]: column_names[28],column_names[28]: column_names[29]})\n",
    "# sort df\n",
    "df_mit = df_mit.iloc[: , :-1]\n",
    "df_mit = df_mit.astype(dtype='float32', copy=True, errors='raise')\n",
    "df_mit = df_mit.astype({\"class\": int})\n",
    "#\n",
    "y = df_mit['class']\n",
    "X = df_mit.drop('class', axis=1)\n",
    "\n",
    "# under, over, svm-smote sampling\n",
    "#sm = SVMSMOTE(random_state=42)\n",
    "ros = RandomUnderSampler(random_state=42)\n",
    "cnn = CondensedNearestNeighbour(random_state=42)\n",
    "\n",
    "# apply techniques\n",
    "X_sm, y_sm = cnn.fit_resample(X, y)\n",
    "\n",
    "bfs_forward_15oct = SequentialFeatureSelector(model_rf, n_features_to_select=15, direction=\"backward\", n_jobs=1).fit(X_sm, y_sm)\n",
    "bfs_forward_5oct = SequentialFeatureSelector(model_rf, n_features_to_select=5, direction=\"backward\", n_jobs=1).fit(X_sm, y_sm)\n",
    "ffs_forward_15oct = SequentialFeatureSelector(model_rf, n_features_to_select=15, direction=\"forward\", n_jobs=1).fit(X_sm, y_sm)\n",
    "ffs_forward_5oct = SequentialFeatureSelector(model_rf, n_features_to_select=5, direction=\"forward\", n_jobs=1).fit(X_sm, y_sm)"
   ]
  },
  {
   "cell_type": "code",
   "execution_count": null,
   "id": "ff08968a-00d2-47b3-bea0-ba4360ffce49",
   "metadata": {},
   "outputs": [],
   "source": [
    "bfs_forward_15oct.get_support()"
   ]
  },
  {
   "cell_type": "code",
   "execution_count": null,
   "id": "d3b822ce-dd55-412a-84fb-0e7700bada33",
   "metadata": {},
   "outputs": [],
   "source": [
    "bfs_forward_5oct.get_support()"
   ]
  },
  {
   "cell_type": "code",
   "execution_count": null,
   "id": "90193189-0513-4ddd-95d1-756800656a10",
   "metadata": {},
   "outputs": [],
   "source": [
    "ffs_forward_15oct.get_support()"
   ]
  },
  {
   "cell_type": "code",
   "execution_count": null,
   "id": "df29d7bd-da27-4b94-890b-e5b3ac8b2041",
   "metadata": {},
   "outputs": [],
   "source": [
    "ffs_forward_5oct.get_support()"
   ]
  },
  {
   "cell_type": "code",
   "execution_count": null,
   "id": "8f3849e2",
   "metadata": {},
   "outputs": [],
   "source": [
    "# Load data from\n",
    "training_data ='rhoen_pure_median_2019-11.txt'\n",
    "# class contains tree typ\n",
    "#field = 'class'\n",
    "\n",
    "# write column names\n",
    "model_input = np.loadtxt(training_data)\n",
    "with open(training_data, 'r') as file:\n",
    "    header = file.readline()\n",
    "column_names = header.split()[1:]\n",
    "model_col_indices = [\n",
    "    column_names.index(var_name) for var_name in column_names[1:]]\n",
    "#\n",
    "#\n",
    "column_names = header.split()[1:]\n",
    "model_col_indices = [column_names.index(var_name) for var_name in column_names[1:]]\n",
    "#\n",
    "df_mit = pd.read_table( training_data, sep=' ')\n",
    "#\n",
    "df_mit = df_mit.rename(columns={\"#\": column_names[0],column_names[0]: column_names[1],column_names[1]: column_names[2],column_names[2]: column_names[3],column_names[3]: column_names[4],column_names[4]: column_names[5],column_names[5]: column_names[6],column_names[6]: column_names[7],column_names[7]: column_names[8],column_names[8]: column_names[9],column_names[9]: column_names[10],column_names[10]: column_names[11],column_names[11]: column_names[12],column_names[12]: column_names[13], \n",
    "                   column_names[13]: column_names[14],column_names[14]: column_names[15],column_names[15]: column_names[16],column_names[16]: column_names[17],column_names[17]: column_names[18], column_names[18]: column_names[19], column_names[19]: column_names[20], column_names[20]: column_names[21], column_names[21]: column_names[22], column_names[22]: column_names[23], column_names[23]: column_names[24], column_names[24]: column_names[25], column_names[25]: column_names[26],\n",
    "                        column_names[26]: column_names[27],column_names[27]: column_names[28],column_names[28]: column_names[29]})\n",
    "# sort df\n",
    "df_mit = df_mit.iloc[: , :-1]\n",
    "df_mit = df_mit.astype(dtype='float32', copy=True, errors='raise')\n",
    "df_mit = df_mit.astype({\"class\": int})\n",
    "#\n",
    "y = df_mit['class']\n",
    "X = df_mit.drop('class', axis=1)\n",
    "\n",
    "# under, over, svm-smote sampling\n",
    "#sm = SVMSMOTE(random_state=42)\n",
    "ros = RandomUnderSampler(random_state=42)\n",
    "cnn = CondensedNearestNeighbour(random_state=42)\n",
    "\n",
    "# apply techniques\n",
    "X_sm, y_sm = cnn.fit_resample(X, y)\n",
    "\n",
    "bfs_forward_15nov = SequentialFeatureSelector(model_rf, n_features_to_select=15, direction=\"backward\", n_jobs=5).fit(X_sm, y_sm)\n",
    "bfs_forward_5nov = SequentialFeatureSelector(model_rf, n_features_to_select=5, direction=\"backward\", n_jobs=5).fit(X_sm, y_sm)\n",
    "ffs_forward_15nov = SequentialFeatureSelector(model_rf, n_features_to_select=15, direction=\"forward\", n_jobs=5).fit(X_sm, y_sm)\n",
    "ffs_forward_5nov = SequentialFeatureSelector(model_rf, n_features_to_select=5, direction=\"forward\", n_jobs=5).fit(X_sm, y_sm)"
   ]
  },
  {
   "cell_type": "code",
   "execution_count": null,
   "id": "f55ee8e1-9253-44ba-9039-18c24c9708d2",
   "metadata": {},
   "outputs": [],
   "source": [
    "bfs_forward_15nov.get_support()"
   ]
  },
  {
   "cell_type": "code",
   "execution_count": null,
   "id": "8053ed60-dfb6-47a0-a6b2-5fe64c8b0848",
   "metadata": {},
   "outputs": [],
   "source": [
    "bfs_forward_5nov.get_support()"
   ]
  },
  {
   "cell_type": "code",
   "execution_count": null,
   "id": "460efdb6-f1e3-4927-bbf8-981aa6bbd35b",
   "metadata": {},
   "outputs": [],
   "source": [
    "ffs_forward_15nov.get_support()"
   ]
  },
  {
   "cell_type": "code",
   "execution_count": null,
   "id": "9d2b73c2-e666-480a-ae73-5a923d3b70c7",
   "metadata": {},
   "outputs": [],
   "source": [
    "ffs_forward_5nov.get_support()"
   ]
  },
  {
   "cell_type": "code",
   "execution_count": null,
   "id": "50415748-ec7c-4295-ae13-b88a4b20c9db",
   "metadata": {},
   "outputs": [],
   "source": [
    "# Load data from\n",
    "training_data ='rhoen_pure_median_2019-12.txt'\n",
    "# class contains tree typ\n",
    "#field = 'class'\n",
    "\n",
    "# write column names\n",
    "model_input = np.loadtxt(training_data)\n",
    "with open(training_data, 'r') as file:\n",
    "    header = file.readline()\n",
    "column_names = header.split()[1:]\n",
    "model_col_indices = [\n",
    "    column_names.index(var_name) for var_name in column_names[1:]]\n",
    "#\n",
    "#\n",
    "column_names = header.split()[1:]\n",
    "model_col_indices = [column_names.index(var_name) for var_name in column_names[1:]]\n",
    "#\n",
    "df_mit = pd.read_table( training_data, sep=' ')\n",
    "#\n",
    "df_mit = df_mit.rename(columns={\"#\": column_names[0],column_names[0]: column_names[1],column_names[1]: column_names[2],column_names[2]: column_names[3],column_names[3]: column_names[4],column_names[4]: column_names[5],column_names[5]: column_names[6],column_names[6]: column_names[7],column_names[7]: column_names[8],column_names[8]: column_names[9],column_names[9]: column_names[10],column_names[10]: column_names[11],column_names[11]: column_names[12],column_names[12]: column_names[13], \n",
    "                   column_names[13]: column_names[14],column_names[14]: column_names[15],column_names[15]: column_names[16],column_names[16]: column_names[17],column_names[17]: column_names[18], column_names[18]: column_names[19], column_names[19]: column_names[20], column_names[20]: column_names[21], column_names[21]: column_names[22], column_names[22]: column_names[23], column_names[23]: column_names[24], column_names[24]: column_names[25], column_names[25]: column_names[26],\n",
    "                        column_names[26]: column_names[27],column_names[27]: column_names[28],column_names[28]: column_names[29]})\n",
    "# sort df\n",
    "df_mit = df_mit.iloc[: , :-1]\n",
    "df_mit = df_mit.astype(dtype='float32', copy=True, errors='raise')\n",
    "df_mit = df_mit.astype({\"class\": int})\n",
    "#\n",
    "y = df_mit['class']\n",
    "X = df_mit.drop('class', axis=1)\n",
    "\n",
    "# under, over, svm-smote sampling\n",
    "#sm = SVMSMOTE(random_state=42)\n",
    "cnn = CondensedNearestNeighbour(random_state=42)\n",
    "\n",
    "ros = RandomUnderSampler(random_state=42)\n",
    "# apply techniques\n",
    "X_sm, y_sm = cnn.fit_resample(X, y)\n",
    "\n",
    "bfs_forward_15dec = SequentialFeatureSelector(model_rf, n_features_to_select=15, direction=\"backward\", n_jobs=5).fit(X_sm, y_sm)\n",
    "bfs_forward_5dec = SequentialFeatureSelector(model_rf, n_features_to_select=5, direction=\"backward\", n_jobs=5).fit(X_sm, y_sm)\n",
    "ffs_forward_15dec = SequentialFeatureSelector(model_rf, n_features_to_select=15, direction=\"forward\", n_jobs=5).fit(X_sm, y_sm)\n",
    "ffs_forward_5dec = SequentialFeatureSelector(model_rf, n_features_to_select=5, direction=\"forward\", n_jobs=5).fit(X_sm, y_sm)"
   ]
  },
  {
   "cell_type": "code",
   "execution_count": null,
   "id": "28699d69-5dd5-4e53-b3ff-117dd0eef6e8",
   "metadata": {},
   "outputs": [],
   "source": [
    "bfs_forward_15dec.get_support()"
   ]
  },
  {
   "cell_type": "code",
   "execution_count": null,
   "id": "1abfbbf9-f14e-42a4-9325-2499df45d056",
   "metadata": {},
   "outputs": [],
   "source": [
    "bfs_forward_5dec.get_support()"
   ]
  },
  {
   "cell_type": "code",
   "execution_count": null,
   "id": "2fafc3c5-98fe-499c-aa78-8642900bf1bf",
   "metadata": {},
   "outputs": [],
   "source": [
    "ffs_forward_15dec.get_support()"
   ]
  },
  {
   "cell_type": "code",
   "execution_count": null,
   "id": "73f29c5c-6715-405c-9783-804cb55be3df",
   "metadata": {},
   "outputs": [],
   "source": [
    "ffs_forward_5dec.get_support()"
   ]
  },
  {
   "cell_type": "code",
   "execution_count": null,
   "id": "6a6caf14-a66d-41b6-b668-cf4aed953a12",
   "metadata": {},
   "outputs": [],
   "source": []
  }
 ],
 "metadata": {
  "kernelspec": {
   "display_name": "Python 3 (ipykernel)",
   "language": "python",
   "name": "python3"
  },
  "language_info": {
   "codemirror_mode": {
    "name": "ipython",
    "version": 3
   },
   "file_extension": ".py",
   "mimetype": "text/x-python",
   "name": "python",
   "nbconvert_exporter": "python",
   "pygments_lexer": "ipython3",
   "version": "3.11.4"
  }
 },
 "nbformat": 4,
 "nbformat_minor": 5
}
